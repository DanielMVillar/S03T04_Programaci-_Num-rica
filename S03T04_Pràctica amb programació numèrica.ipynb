{
 "cells": [
  {
   "cell_type": "markdown",
   "id": "56ca967f",
   "metadata": {},
   "source": [
    "### Exercici 1\n",
    "\n",
    "#### Crea una funció que donat un Array d’una dimensió, et faci un resum estadístic bàsic de les dades. Si detecta que l’array té més d’una dimensió, ha de mostrar un missatge d’error."
   ]
  },
  {
   "cell_type": "code",
   "execution_count": null,
   "id": "4acf51e6",
   "metadata": {},
   "outputs": [],
   "source": [
    "import numpy as np\n",
    "\n",
    "array_1D = np.array([1,6,9,14,85])\n",
    "array_2D = np.array([[1,3,9],[10,12,14]])\n",
    "\n",
    "def resum_st(nparray):\n",
    "    print(\"Resum estadístic de l'array:\\n\", nparray)\n",
    "    if nparray.ndim > 1:\n",
    "        print(\"error: només es poden introduïr arrays d'1 dimensió\")\n",
    "    else:\n",
    "        print(\"valor màxim de l'array:\", np.amax(nparray))\n",
    "        print(\"valor mínim de l'array:\", np.amin(nparray))\n",
    "        print(\"valor mediana de l'array:\", np.median(nparray))\n",
    "        print(\"valor mig de l'array:\", np.mean(nparray))\n",
    "        print(\"valor mitjana de l'array:\", np.average(nparray))\n",
    "        print(\"valor desviació estándar de l'array:\", np.std(nparray))\n",
    "        print(\"valor variança de l'array:\", np.var(nparray))\n",
    "        print(\"valor coeficient correlació de l'array:\", np.corrcoef(nparray))\n",
    "        print(\"fi de l'estudi estadístic\\n\")\n",
    "       \n",
    "resum_st(array_1D)\n",
    "resum_st(array_2D)"
   ]
  },
  {
   "cell_type": "markdown",
   "id": "018e1504",
   "metadata": {},
   "source": [
    "### Exercici 2\n",
    "\n",
    "#### Crea una funció que et generi un quadrat NxN de nombres aleatoris entre el 0 i el 100."
   ]
  },
  {
   "cell_type": "code",
   "execution_count": null,
   "id": "ee517cfd",
   "metadata": {},
   "outputs": [],
   "source": [
    "from numpy import random\n",
    "\n",
    "print(\"Introdueix valor N de la matriu quadrada:\")\n",
    "N = int(input())\n",
    "\n",
    "def quadrat(N):\n",
    "    array_q = random.randint(100, size=(N, N))\n",
    "    print (array_q)\n",
    "\n",
    "quadrat(N)"
   ]
  },
  {
   "cell_type": "markdown",
   "id": "d19b1116",
   "metadata": {},
   "source": [
    "### Exercici 3\n",
    "\n",
    "#### Crea una funció que donada una taula de dues dimensions, et calculi els totals per fila i els totals per columna."
   ]
  },
  {
   "cell_type": "code",
   "execution_count": 10,
   "id": "7604a3db",
   "metadata": {
    "scrolled": true
   },
   "outputs": [
    {
     "name": "stdout",
     "output_type": "stream",
     "text": [
      "\n",
      "\n",
      "suma de filas y columnas de la matriz:\n",
      " [[ 1  3  9]\n",
      " [10 12 14]]\n",
      "que tiene filas: 2\n",
      "y columnas: 3\n",
      "la suma de fila 1 es: 13\n",
      "la suma de fila 2 es: 36\n",
      "la suma de columna 1 es: 11\n",
      "la suma de columna 2 es: 15\n",
      "la suma de columna 3 es: 23\n",
      "\n",
      "\n",
      "suma de filas y columnas de la matriz:\n",
      " [[ 6  7  8  3  4  5]\n",
      " [88 76 55 13 44 90]]\n",
      "que tiene filas: 2\n",
      "y columnas: 6\n",
      "la suma de fila 1 es: 33\n",
      "la suma de fila 2 es: 366\n",
      "la suma de columna 1 es: 94\n",
      "la suma de columna 2 es: 83\n",
      "la suma de columna 3 es: 63\n",
      "la suma de columna 4 es: 16\n",
      "la suma de columna 5 es: 48\n",
      "la suma de columna 6 es: 95\n"
     ]
    }
   ],
   "source": [
    "import numpy as np\n",
    "\n",
    "array1_2D = np.array([[1,3,9],[10,12,14]])\n",
    "array2_2D = np.array([[6,7,8,3,4,5],[88,76,55,13,44,90]])\n",
    "\n",
    "\n",
    "def suma(nparray):\n",
    "    print('\\n')\n",
    "    print(\"suma de filas y columnas de la matriz:\\n\", nparray)\n",
    "    print(\"que tiene filas:\",nparray.shape[0]) #devuelve número de filas\n",
    "    print(\"y columnas:\", nparray.shape[1]) #devuelve número de columnas\n",
    "    \n",
    "    i1 = 0\n",
    "    sum_f = 0\n",
    "    while i1 < nparray.shape[1]: #mientras sea inferior al número de columnas\n",
    "        sum_f = nparray[:,i1] + sum_f #suma cada elemento de la fila\n",
    "        i1 += 1\n",
    "    \n",
    "    i2 = 0 #algoritmo para imprimir el resultado por filas\n",
    "    while i2 < nparray.shape[0]: \n",
    "        print(\"la suma de fila\",i2+1, \"es:\",sum_f[i2])    \n",
    "        i2 += 1\n",
    "    \n",
    "    j1 = 0\n",
    "    sum_c = 0\n",
    "    while j1 < nparray.shape[0]: #mientras sea inferior al número de filas\n",
    "        sum_c = nparray[j1,:] + sum_c #suma cada elemento de la columna\n",
    "        j1 += 1\n",
    "\n",
    "    j2 = 0 #algoritmo para imprimir el resultado por columnas\n",
    "    while j2 < nparray.shape[1]: \n",
    "        print(\"la suma de columna\",j2+1, \"es:\",sum_c[j2])    \n",
    "        j2 += 1\n",
    "  \n",
    "\n",
    "suma(array1_2D)\n",
    "suma(array2_2D)"
   ]
  },
  {
   "cell_type": "markdown",
   "id": "d7c55092",
   "metadata": {},
   "source": [
    "### Exercici 4\n",
    "\n",
    "#### Implementa manualment una funció que calculi el coeficient de correlació. Informa’t-en sobre els seus usos i interpretació."
   ]
  },
  {
   "cell_type": "code",
   "execution_count": 12,
   "id": "c0c2a3cd",
   "metadata": {},
   "outputs": [
    {
     "name": "stdout",
     "output_type": "stream",
     "text": [
      "el coeficient de correlació de la matriu:\n",
      " [[2 4 6]\n",
      " [4 6 8]]\n",
      "segons la formula implementada és:\n",
      "0.9999999999999998\n",
      "segons la formula de numpy és:\n",
      "[[1. 1.]\n",
      " [1. 1.]]\n",
      "\n",
      "\n",
      "el coeficient de correlació de la matriu:\n",
      " [[ 6  7  8  3  4  5]\n",
      " [88 76 55 13 44 90]]\n",
      "segons la formula implementada és:\n",
      "0.5462821430346243\n",
      "segons la formula de numpy és:\n",
      "[[1.         0.54628214]\n",
      " [0.54628214 1.        ]]\n"
     ]
    }
   ],
   "source": [
    "import numpy as np\n",
    "import math\n",
    "\n",
    "array1_2D = np.array([[2,4,6],[4,6,8]])\n",
    "array2_2D = np.array([[6,7,8,3,4,5],[88,76,55,13,44,90]])\n",
    "\n",
    "def coef_corr(nparray):\n",
    "  \n",
    "    nf1_av = np.average(nparray[0,:]) #calculo valor medio fila 1\n",
    "    nf2_av = np.average(nparray[1,:]) #calculo valor medio fila 2\n",
    "    \n",
    "    nf1_dif = nparray[0,:] - nf1_av #a cada elemento de fila 1 se le resta el valor medio\n",
    "    nf2_dif = nparray[1,:] - nf2_av #a cada elemento de fila 2 se le resta el valor medio\n",
    "    \n",
    "    nf1_2 = nf1_dif**2 #el resultado de la resta a potencia 2\n",
    "    nf2_2 = nf2_dif**2 #el resultado de la resta a potencia 2\n",
    "    \n",
    "    nf12 = nf1_dif * nf2_dif #se multiplican las diferencias de cada elemento de cada fila\n",
    "    \n",
    "    a = np.sum(nf12) #sumatorio de los valores\n",
    "    b = math.sqrt(np.sum(nf1_2)) #sumatorio de los valores y raiz cuadrada\n",
    "    c = math.sqrt(np.sum(nf2_2)) #sumatorio de los valores y raiz cuadrada\n",
    "  \n",
    "    corr = a / (b*c)\n",
    "    print(corr)\n",
    "\n",
    "    \n",
    "print(\"el coeficient de correlació de la matriu:\\n\", array1_2D)\n",
    "print(\"segons la formula implementada és:\")  \n",
    "coef_corr(array1_2D)\n",
    "print(\"segons la formula de numpy és:\") \n",
    "print(np.corrcoef(array1_2D))\n",
    "print(\"\\n\")\n",
    "print(\"el coeficient de correlació de la matriu:\\n\", array2_2D)    \n",
    "print(\"segons la formula implementada és:\")  \n",
    "coef_corr(array2_2D)\n",
    "print(\"segons la formula de numpy és:\") \n",
    "print(np.corrcoef(array2_2D))\n",
    "\n"
   ]
  },
  {
   "cell_type": "code",
   "execution_count": null,
   "id": "4929af49",
   "metadata": {},
   "outputs": [],
   "source": []
  }
 ],
 "metadata": {
  "kernelspec": {
   "display_name": "Python 3",
   "language": "python",
   "name": "python3"
  },
  "language_info": {
   "codemirror_mode": {
    "name": "ipython",
    "version": 3
   },
   "file_extension": ".py",
   "mimetype": "text/x-python",
   "name": "python",
   "nbconvert_exporter": "python",
   "pygments_lexer": "ipython3",
   "version": "3.9.1"
  }
 },
 "nbformat": 4,
 "nbformat_minor": 5
}
